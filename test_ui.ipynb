{
 "cells": [
  {
   "cell_type": "code",
   "execution_count": 24,
   "metadata": {},
   "outputs": [],
   "source": [
    "from tpot import TPOTClassifier\n",
    "from sklearn.datasets import load_digits\n",
    "from sklearn.model_selection import train_test_split\n"
   ]
  },
  {
   "cell_type": "code",
   "execution_count": 16,
   "metadata": {},
   "outputs": [],
   "source": [
    "digits = load_digits()\n",
    "X_train, X_test, y_train, y_test = train_test_split(digits.data, digits.target,\n",
    "                                                    train_size=0.75, test_size=0.25)\n"
   ]
  },
  {
   "cell_type": "code",
   "execution_count": 3,
   "metadata": {},
   "outputs": [
    {
     "name": "stdout",
     "output_type": "stream",
     "text": [
      "Warning: xgboost.XGBClassifier is not available and will not be used by TPOT.\n"
     ]
    },
    {
     "data": {
      "application/vnd.jupyter.widget-view+json": {
       "model_id": "",
       "version_major": 2,
       "version_minor": 0
      },
      "text/plain": [
       "HBox(children=(FloatProgress(value=0.0, description='Optimization Progress', max=120.0, style=ProgressStyle(de…"
      ]
     },
     "metadata": {},
     "output_type": "display_data"
    },
    {
     "name": "stdout",
     "output_type": "stream",
     "text": [
      "Generation 1 - Current best internal CV score: 0.9799476800220294\n",
      "Generation 2 - Current best internal CV score: 0.9799476800220294\n",
      "Generation 3 - Current best internal CV score: 0.9799476800220294\n",
      "Generation 4 - Current best internal CV score: 0.9799476800220294\n",
      "Generation 5 - Current best internal CV score: 0.9799559410711828\n",
      "\n",
      "Best pipeline: ExtraTreesClassifier(MaxAbsScaler(input_matrix), bootstrap=False, criterion=gini, max_features=0.3, min_samples_leaf=3, min_samples_split=4, n_estimators=100)\n",
      "0.9755555555555555\n"
     ]
    }
   ],
   "source": [
    "pipeline_optimizer = TPOTClassifier(generations=5, population_size=20, cv=5,\n",
    "                                    random_state=42, verbosity=2)\n",
    "\n",
    "pipeline_optimizer.fit(X_train, y_train)\n",
    "print(pipeline_optimizer.score(X_test, y_test))\n",
    "pipeline_optimizer.export('tpot_exported_pipeline.py')"
   ]
  },
  {
   "cell_type": "code",
   "execution_count": 28,
   "metadata": {},
   "outputs": [
    {
     "name": "stdout",
     "output_type": "stream",
     "text": [
      "import numpy as np\r\n",
      "import pandas as pd\r\n",
      "from sklearn.linear_model import LogisticRegression\r\n",
      "from sklearn.model_selection import train_test_split\r\n",
      "\r\n",
      "# NOTE: Make sure that the outcome column is labeled 'target' in the data file\r\n",
      "tpot_data = pd.read_csv('PATH/TO/DATA/FILE', sep='COLUMN_SEPARATOR', dtype=np.float64)\r\n",
      "features = tpot_data.drop('target', axis=1)\r\n",
      "training_features, testing_features, training_target, testing_target = \\\r\n",
      "            train_test_split(features, tpot_data['target'], random_state=None)\r\n",
      "\r\n",
      "# Average CV score on the training set was: 0.9710422690348341\r\n",
      "exported_pipeline = LogisticRegression(C=0.1, dual=False, penalty=\"l2\")\r\n",
      "\r\n",
      "exported_pipeline.fit(training_features, training_target)\r\n",
      "results = exported_pipeline.predict(testing_features)\r\n"
     ]
    }
   ],
   "source": [
    "!cat tpot_digits_pipeline.py"
   ]
  },
  {
   "cell_type": "markdown",
   "metadata": {},
   "source": [
    "# configurations"
   ]
  },
  {
   "cell_type": "code",
   "execution_count": 17,
   "metadata": {},
   "outputs": [],
   "source": [
    "# TPOT MDR\n",
    "\n",
    "tpot_mdr_classifier_config_dict = {\n",
    "\n",
    "    # Classifiers\n",
    "    'mdr.MDRClassifier': {\n",
    "        'tie_break': [0, 1],\n",
    "        'default_label': [0, 1]\n",
    "    },\n",
    "\n",
    "    # Feature Selectors\n",
    "    'skrebate.ReliefF': {\n",
    "        'n_features_to_select': range(1, 6),\n",
    "        'n_neighbors': [2, 10, 50, 100, 250, 500]\n",
    "    },\n",
    "\n",
    "    'skrebate.SURF': {\n",
    "        'n_features_to_select': range(1, 6)\n",
    "    },\n",
    "\n",
    "    'skrebate.SURFstar': {\n",
    "        'n_features_to_select': range(1, 6)\n",
    "    },\n",
    "\n",
    "    'skrebate.MultiSURF': {\n",
    "        'n_features_to_select': range(1, 6)\n",
    "    }\n",
    "}"
   ]
  },
  {
   "cell_type": "code",
   "execution_count": 18,
   "metadata": {},
   "outputs": [
    {
     "data": {
      "text/plain": [
       "{'mdr.MDRClassifier': {'tie_break': [0, 1], 'default_label': [0, 1]},\n",
       " 'skrebate.ReliefF': {'n_features_to_select': range(1, 6),\n",
       "  'n_neighbors': [2, 10, 50, 100, 250, 500]},\n",
       " 'skrebate.SURF': {'n_features_to_select': range(1, 6)},\n",
       " 'skrebate.SURFstar': {'n_features_to_select': range(1, 6)},\n",
       " 'skrebate.MultiSURF': {'n_features_to_select': range(1, 6)}}"
      ]
     },
     "execution_count": 18,
     "metadata": {},
     "output_type": "execute_result"
    }
   ],
   "source": [
    "tpot_mdr_classifier_config_dict"
   ]
  },
  {
   "cell_type": "code",
   "execution_count": 22,
   "metadata": {},
   "outputs": [
    {
     "name": "stdout",
     "output_type": "stream",
     "text": [
      "Warning: skrebate.MultiSURF is not available and will not be used by TPOT.\n",
      "Warning: skrebate.ReliefF is not available and will not be used by TPOT.\n",
      "Warning: skrebate.SURF is not available and will not be used by TPOT.\n",
      "Warning: skrebate.SURFstar is not available and will not be used by TPOT.\n"
     ]
    },
    {
     "data": {
      "application/vnd.jupyter.widget-view+json": {
       "model_id": "b3a257cbef7c4a2ebe61ef3b98935a1a",
       "version_major": 2,
       "version_minor": 0
      },
      "text/plain": [
       "HBox(children=(FloatProgress(value=0.0, description='Optimization Progress', max=120.0, style=ProgressStyle(de…"
      ]
     },
     "metadata": {},
     "output_type": "display_data"
    },
    {
     "name": "stdout",
     "output_type": "stream",
     "text": [
      "\n",
      "\n",
      "TPOT closed during evaluation in one generation.\n",
      "WARNING: TPOT may not provide a good pipeline if TPOT is stopped/interrupted in a early generation.\n",
      "\n",
      "\n",
      "TPOT closed prematurely. Will use the current best pipeline.\n",
      "\n",
      "Best pipeline: LogisticRegression(CombineDFs(input_matrix, input_matrix), C=0.001, dual=False, penalty=l2)\n",
      "0.9688888888888889\n"
     ]
    }
   ],
   "source": [
    "tpot = TPOTClassifier(generations=5, population_size=20, verbosity=2,\n",
    "                      config_dict=\"TPOT MDR\")\n",
    "\n",
    "tpot.fit(X_train, y_train)\n",
    "print(tpot.score(X_test, y_test))\n",
    "tpot.export('tpot_digits_pipeline_mdr.py')"
   ]
  },
  {
   "cell_type": "code",
   "execution_count": 25,
   "metadata": {},
   "outputs": [
    {
     "name": "stdout",
     "output_type": "stream",
     "text": [
      "import numpy as np\r\n",
      "import pandas as pd\r\n",
      "from sklearn.linear_model import LogisticRegression\r\n",
      "from sklearn.model_selection import train_test_split\r\n",
      "from sklearn.pipeline import make_pipeline, make_union\r\n",
      "from tpot.builtins import StackingEstimator\r\n",
      "from sklearn.preprocessing import FunctionTransformer\r\n",
      "from copy import copy\r\n",
      "\r\n",
      "# NOTE: Make sure that the outcome column is labeled 'target' in the data file\r\n",
      "tpot_data = pd.read_csv('PATH/TO/DATA/FILE', sep='COLUMN_SEPARATOR', dtype=np.float64)\r\n",
      "features = tpot_data.drop('target', axis=1)\r\n",
      "training_features, testing_features, training_target, testing_target = \\\r\n",
      "            train_test_split(features, tpot_data['target'], random_state=None)\r\n",
      "\r\n",
      "# Average CV score on the training set was: 0.9643563265868098\r\n",
      "exported_pipeline = make_pipeline(\r\n",
      "    make_union(\r\n",
      "        FunctionTransformer(copy),\r\n",
      "        FunctionTransformer(copy)\r\n",
      "    ),\r\n",
      "    LogisticRegression(C=0.001, dual=False, penalty=\"l2\")\r\n",
      ")\r\n",
      "\r\n",
      "exported_pipeline.fit(training_features, training_target)\r\n",
      "results = exported_pipeline.predict(testing_features)\r\n"
     ]
    }
   ],
   "source": [
    "!cat tpot_digits_pipeline_mdr.py"
   ]
  },
  {
   "cell_type": "code",
   "execution_count": null,
   "metadata": {},
   "outputs": [],
   "source": []
  }
 ],
 "metadata": {
  "kernelspec": {
   "display_name": "tpot_play",
   "language": "python",
   "name": "tpot_play"
  },
  "language_info": {
   "codemirror_mode": {
    "name": "ipython",
    "version": 3
   },
   "file_extension": ".py",
   "mimetype": "text/x-python",
   "name": "python",
   "nbconvert_exporter": "python",
   "pygments_lexer": "ipython3",
   "version": "3.7.4"
  }
 },
 "nbformat": 4,
 "nbformat_minor": 2
}
